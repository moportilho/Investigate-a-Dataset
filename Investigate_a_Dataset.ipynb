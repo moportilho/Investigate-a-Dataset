{
 "cells": [
  {
   "cell_type": "markdown",
   "metadata": {},
   "source": [
    "\n",
    "# Project: Investigate a Dataset - TMDb Movie Data\n",
    "\n",
    "## Table of Contents\n",
    "<ul>\n",
    "<li><a href=\"#intro\">Introduction</a></li>\n",
    "<li><a href=\"#wrangling\">Data Wrangling</a></li>\n",
    "<li><a href=\"#eda\">Exploratory Data Analysis</a></li>\n",
    "<li><a href=\"#conclusions\">Conclusions</a></li>\n",
    "</ul>"
   ]
  },
  {
   "cell_type": "markdown",
   "metadata": {},
   "source": [
    "<a id='intro'></a>\n",
    "## Introduction\n",
    "\n",
    "### Dataset Description \n",
    "\n",
    "The dataset selected for analysis is the TMDb (The Movie Database) movie dataset, cleaned from the original data available on Kaggle. This dataset contains comprehensive information about various movies, including details such as budget, revenue, popularity, vote average, genres, cast, production companies, and more. The dataset provides a rich source of information to explore and understand factors influencing movie success, audience preferences, and the dynamics of the film industry. \n",
    "\n",
    "\n",
    "### Question(s) for Analysis\n",
    "For this analysis, we plan to explore the following research question:\n",
    "\n",
    "**Research Question:**\n",
    "What is the relationship between movie budget, revenue, popularity, and vote average? Are higher budgets associated with higher revenues and popularity? Does popularity influence the average viewer rating (vote average) of a movie?\n",
    "\n",
    "We will address this research question by analyzing the dependent variable (revenue) and the three independent variables (budget, popularity, and vote average). Through data exploration, visualization, and statistical analysis, we aim to gain insights into the relationships between these variables and understand the factors that contribute to movie success and audience reception.\n",
    "\n",
    "In the subsequent sections, we will perform data wrangling, conduct exploratory data analysis, and present our findings and conclusions in response to the research question."
   ]
  },
  {
   "cell_type": "code",
   "execution_count": 1,
   "metadata": {},
   "outputs": [],
   "source": [
    "import numpy as np\n",
    "import pandas as pd\n",
    "import matplotlib.pyplot as plt\n",
    "\n",
    "%matplotlib inline"
   ]
  },
  {
   "cell_type": "code",
   "execution_count": 2,
   "metadata": {},
   "outputs": [
    {
     "name": "stdout",
     "output_type": "stream",
     "text": [
      "Requirement already up-to-date: pandas==0.25.0 in /opt/conda/lib/python3.6/site-packages (0.25.0)\r\n",
      "Requirement already satisfied, skipping upgrade: python-dateutil>=2.6.1 in /opt/conda/lib/python3.6/site-packages (from pandas==0.25.0) (2.6.1)\r\n",
      "Requirement already satisfied, skipping upgrade: pytz>=2017.2 in /opt/conda/lib/python3.6/site-packages (from pandas==0.25.0) (2017.3)\r\n",
      "Requirement already satisfied, skipping upgrade: numpy>=1.13.3 in /opt/conda/lib/python3.6/site-packages (from pandas==0.25.0) (1.19.5)\r\n",
      "Requirement already satisfied, skipping upgrade: six>=1.5 in /opt/conda/lib/python3.6/site-packages (from python-dateutil>=2.6.1->pandas==0.25.0) (1.11.0)\r\n"
     ]
    }
   ],
   "source": [
    "!pip install --upgrade pandas==0.25.0"
   ]
  },
  {
   "cell_type": "code",
   "execution_count": 3,
   "metadata": {},
   "outputs": [],
   "source": [
    "def calculate_statistics(data, column_name):\n",
    "    mean_value = data[column_name].mean()\n",
    "    median_value = data[column_name].median()\n",
    "    std_value = data[column_name].std()\n",
    "    return mean_value, median_value, std_value"
   ]
  },
  {
   "cell_type": "code",
   "execution_count": 4,
   "metadata": {},
   "outputs": [],
   "source": [
    "def myScatterPlot(df,xVar,yVar,color='purple'):\n",
    "    \n",
    "    correlation_coefficient = df[xVar].corr(df[yVar])\n",
    "\n",
    "    df.plot(kind='scatter',x=xVar, y=yVar, figsize=[14, 6], s=4, color=color, label=f'Correlation Coefficient: {correlation_coefficient: 0.3}');\n",
    "\n",
    "    xVar=xVar.replace(\"_\",\" \") \n",
    "    yVar=yVar.replace(\"_\",\" \") \n",
    "\n",
    "    plt.title(f'Relationship between {yVar} and {xVar}'.title(), fontsize = 14, weight = \"bold\") \n",
    "\n",
    "    plt.xlabel(xVar.title(), fontsize = 10, weight = \"bold\")\n",
    "\n",
    "    plt.ylabel(yVar.title(), fontsize = 10, weight = \"bold\")\n",
    "\n",
    "    plt.legend();"
   ]
  },
  {
   "cell_type": "markdown",
   "metadata": {},
   "source": [
    "<a id='wrangling'></a>\n",
    "## Data Wrangling\n",
    "\n",
    "In this section, we will perform data wrangling to prepare the TMDb movie dataset for analysis. We will load the data, check for cleanliness, and clean the dataset by addressing any data issues or inconsistencies.\n"
   ]
  },
  {
   "cell_type": "code",
   "execution_count": 5,
   "metadata": {},
   "outputs": [
    {
     "name": "stdout",
     "output_type": "stream",
     "text": [
      "       id    imdb_id  popularity     budget     revenue  \\\n",
      "0  135397  tt0369610   32.985763  150000000  1513528810   \n",
      "1   76341  tt1392190   28.419936  150000000   378436354   \n",
      "2  262500  tt2908446   13.112507  110000000   295238201   \n",
      "3  140607  tt2488496   11.173104  200000000  2068178225   \n",
      "4  168259  tt2820852    9.335014  190000000  1506249360   \n",
      "\n",
      "                 original_title  \\\n",
      "0                Jurassic World   \n",
      "1            Mad Max: Fury Road   \n",
      "2                     Insurgent   \n",
      "3  Star Wars: The Force Awakens   \n",
      "4                     Furious 7   \n",
      "\n",
      "                                                cast  \\\n",
      "0  Chris Pratt|Bryce Dallas Howard|Irrfan Khan|Vi...   \n",
      "1  Tom Hardy|Charlize Theron|Hugh Keays-Byrne|Nic...   \n",
      "2  Shailene Woodley|Theo James|Kate Winslet|Ansel...   \n",
      "3  Harrison Ford|Mark Hamill|Carrie Fisher|Adam D...   \n",
      "4  Vin Diesel|Paul Walker|Jason Statham|Michelle ...   \n",
      "\n",
      "                                            homepage          director  \\\n",
      "0                      http://www.jurassicworld.com/   Colin Trevorrow   \n",
      "1                        http://www.madmaxmovie.com/     George Miller   \n",
      "2     http://www.thedivergentseries.movie/#insurgent  Robert Schwentke   \n",
      "3  http://www.starwars.com/films/star-wars-episod...       J.J. Abrams   \n",
      "4                           http://www.furious7.com/         James Wan   \n",
      "\n",
      "                         tagline  ...  \\\n",
      "0              The park is open.  ...   \n",
      "1             What a Lovely Day.  ...   \n",
      "2     One Choice Can Destroy You  ...   \n",
      "3  Every generation has a story.  ...   \n",
      "4            Vengeance Hits Home  ...   \n",
      "\n",
      "                                            overview runtime  \\\n",
      "0  Twenty-two years after the events of Jurassic ...     124   \n",
      "1  An apocalyptic story set in the furthest reach...     120   \n",
      "2  Beatrice Prior must confront her inner demons ...     119   \n",
      "3  Thirty years after defeating the Galactic Empi...     136   \n",
      "4  Deckard Shaw seeks revenge against Dominic Tor...     137   \n",
      "\n",
      "                                      genres  \\\n",
      "0  Action|Adventure|Science Fiction|Thriller   \n",
      "1  Action|Adventure|Science Fiction|Thriller   \n",
      "2         Adventure|Science Fiction|Thriller   \n",
      "3   Action|Adventure|Science Fiction|Fantasy   \n",
      "4                      Action|Crime|Thriller   \n",
      "\n",
      "                                production_companies release_date vote_count  \\\n",
      "0  Universal Studios|Amblin Entertainment|Legenda...       6/9/15       5562   \n",
      "1  Village Roadshow Pictures|Kennedy Miller Produ...      5/13/15       6185   \n",
      "2  Summit Entertainment|Mandeville Films|Red Wago...      3/18/15       2480   \n",
      "3          Lucasfilm|Truenorth Productions|Bad Robot     12/15/15       5292   \n",
      "4  Universal Pictures|Original Film|Media Rights ...       4/1/15       2947   \n",
      "\n",
      "   vote_average  release_year    budget_adj   revenue_adj  \n",
      "0           6.5          2015  1.379999e+08  1.392446e+09  \n",
      "1           7.1          2015  1.379999e+08  3.481613e+08  \n",
      "2           6.3          2015  1.012000e+08  2.716190e+08  \n",
      "3           7.5          2015  1.839999e+08  1.902723e+09  \n",
      "4           7.3          2015  1.747999e+08  1.385749e+09  \n",
      "\n",
      "[5 rows x 21 columns]\n",
      "\n",
      "Data Types:\n",
      "id                        int64\n",
      "imdb_id                  object\n",
      "popularity              float64\n",
      "budget                    int64\n",
      "revenue                   int64\n",
      "original_title           object\n",
      "cast                     object\n",
      "homepage                 object\n",
      "director                 object\n",
      "tagline                  object\n",
      "keywords                 object\n",
      "overview                 object\n",
      "runtime                   int64\n",
      "genres                   object\n",
      "production_companies     object\n",
      "release_date             object\n",
      "vote_count                int64\n",
      "vote_average            float64\n",
      "release_year              int64\n",
      "budget_adj              float64\n",
      "revenue_adj             float64\n",
      "dtype: object\n",
      "\n",
      "Missing Values Count:\n",
      " id                         0\n",
      "imdb_id                   10\n",
      "popularity                 0\n",
      "budget                     0\n",
      "revenue                    0\n",
      "original_title             0\n",
      "cast                      76\n",
      "homepage                7930\n",
      "director                  44\n",
      "tagline                 2824\n",
      "keywords                1493\n",
      "overview                   4\n",
      "runtime                    0\n",
      "genres                    23\n",
      "production_companies    1030\n",
      "release_date               0\n",
      "vote_count                 0\n",
      "vote_average               0\n",
      "release_year               0\n",
      "budget_adj                 0\n",
      "revenue_adj                0\n",
      "dtype: int64\n",
      "\n",
      "Duplicate Rows:\n",
      "          id    imdb_id  popularity    budget  revenue original_title  \\\n",
      "2090  42194  tt0411951     0.59643  30000000   967000         TEKKEN   \n",
      "\n",
      "                                                   cast homepage  \\\n",
      "2090  Jon Foo|Kelly Overton|Cary-Hiroyuki Tagawa|Ian...      NaN   \n",
      "\n",
      "              director              tagline  ...  \\\n",
      "2090  Dwight H. Little  Survival is no game  ...   \n",
      "\n",
      "                                               overview runtime  \\\n",
      "2090  In the year of 2039, after World Wars destroy ...      92   \n",
      "\n",
      "                                           genres    production_companies  \\\n",
      "2090  Crime|Drama|Action|Thriller|Science Fiction  Namco|Light Song Films   \n",
      "\n",
      "     release_date vote_count  vote_average  release_year  budget_adj  \\\n",
      "2090      3/20/10        110           5.0          2010  30000000.0   \n",
      "\n",
      "      revenue_adj  \n",
      "2090     967000.0  \n",
      "\n",
      "[1 rows x 21 columns]\n"
     ]
    }
   ],
   "source": [
    "import pandas as pd\n",
    "\n",
    "df = pd.read_csv('Database_TMDb_movie_data/tmdb-movies.csv')\n",
    "\n",
    "print(df.head())\n",
    "\n",
    "print(\"\\nData Types:\")\n",
    "print(df.dtypes)\n",
    "\n",
    "missing_values_count = df.isnull().sum()\n",
    "print(\"\\nMissing Values Count:\\n\", missing_values_count)\n",
    "\n",
    "duplicate_rows = df[df.duplicated()]\n",
    "print(\"\\nDuplicate Rows:\\n\", duplicate_rows)"
   ]
  },
  {
   "cell_type": "markdown",
   "metadata": {},
   "source": [
    "\n",
    "### Data Cleaning\n",
    "\n",
    "**Handling Missing Values:**\n",
    "\n",
    "We will check the columns with missing values and decide on the appropriate method to handle them. Depending on the nature of the missing data, we can choose to remove rows with missing values or impute missing values with appropriate techniques.\n",
    "\n",
    "**Dealing with Duplicates:**\n",
    "\n",
    "Duplicate rows can lead to inaccurate analysis results. We will remove duplicate rows from the DataFrame to ensure data accuracy.\n",
    "\n",
    "**Data Standardization (if applicable):**\n",
    "\n",
    "If there are inconsistencies or formatting issues in the data, we will standardize them to ensure uniformity. This step might involve converting text to lowercase, removing leading/trailing whitespaces, or converting categorical values to a standard format.\n",
    "\n",
    "**Data Type Conversion (if applicable):**\n",
    "\n",
    "If any columns require a different data type for analysis, we will perform data type conversion using the astype() function.\n",
    "\n",
    "**Data Trimming (if applicable):**\n",
    "\n",
    "If there are irrelevant or redundant columns that do not contribute to the analysis, we will drop them from the DataFrame using the drop() function."
   ]
  },
  {
   "cell_type": "code",
   "execution_count": 6,
   "metadata": {},
   "outputs": [
    {
     "name": "stdout",
     "output_type": "stream",
     "text": [
      "       id    imdb_id  popularity     budget     revenue  \\\n",
      "0  135397  tt0369610   32.985763  150000000  1513528810   \n",
      "1   76341  tt1392190   28.419936  150000000   378436354   \n",
      "2  262500  tt2908446   13.112507  110000000   295238201   \n",
      "3  140607  tt2488496   11.173104  200000000  2068178225   \n",
      "4  168259  tt2820852    9.335014  190000000  1506249360   \n",
      "\n",
      "                 original_title  \\\n",
      "0                Jurassic World   \n",
      "1            Mad Max: Fury Road   \n",
      "2                     Insurgent   \n",
      "3  Star Wars: The Force Awakens   \n",
      "4                     Furious 7   \n",
      "\n",
      "                                                cast  \\\n",
      "0  Chris Pratt|Bryce Dallas Howard|Irrfan Khan|Vi...   \n",
      "1  Tom Hardy|Charlize Theron|Hugh Keays-Byrne|Nic...   \n",
      "2  Shailene Woodley|Theo James|Kate Winslet|Ansel...   \n",
      "3  Harrison Ford|Mark Hamill|Carrie Fisher|Adam D...   \n",
      "4  Vin Diesel|Paul Walker|Jason Statham|Michelle ...   \n",
      "\n",
      "                                            homepage          director  \\\n",
      "0                      http://www.jurassicworld.com/   Colin Trevorrow   \n",
      "1                        http://www.madmaxmovie.com/     George Miller   \n",
      "2     http://www.thedivergentseries.movie/#insurgent  Robert Schwentke   \n",
      "3  http://www.starwars.com/films/star-wars-episod...       J.J. Abrams   \n",
      "4                           http://www.furious7.com/         James Wan   \n",
      "\n",
      "                         tagline  ...  \\\n",
      "0              The park is open.  ...   \n",
      "1             What a Lovely Day.  ...   \n",
      "2     One Choice Can Destroy You  ...   \n",
      "3  Every generation has a story.  ...   \n",
      "4            Vengeance Hits Home  ...   \n",
      "\n",
      "                                            overview runtime  \\\n",
      "0  Twenty-two years after the events of Jurassic ...     124   \n",
      "1  An apocalyptic story set in the furthest reach...     120   \n",
      "2  Beatrice Prior must confront her inner demons ...     119   \n",
      "3  Thirty years after defeating the Galactic Empi...     136   \n",
      "4  Deckard Shaw seeks revenge against Dominic Tor...     137   \n",
      "\n",
      "                                      genres  \\\n",
      "0  Action|Adventure|Science Fiction|Thriller   \n",
      "1  Action|Adventure|Science Fiction|Thriller   \n",
      "2         Adventure|Science Fiction|Thriller   \n",
      "3   Action|Adventure|Science Fiction|Fantasy   \n",
      "4                      Action|Crime|Thriller   \n",
      "\n",
      "                                production_companies release_date vote_count  \\\n",
      "0  Universal Studios|Amblin Entertainment|Legenda...       6/9/15       5562   \n",
      "1  Village Roadshow Pictures|Kennedy Miller Produ...      5/13/15       6185   \n",
      "2  Summit Entertainment|Mandeville Films|Red Wago...      3/18/15       2480   \n",
      "3          Lucasfilm|Truenorth Productions|Bad Robot     12/15/15       5292   \n",
      "4  Universal Pictures|Original Film|Media Rights ...       4/1/15       2947   \n",
      "\n",
      "   vote_average  release_year    budget_adj   revenue_adj  \n",
      "0           6.5          2015  1.379999e+08  1.392446e+09  \n",
      "1           7.1          2015  1.379999e+08  3.481613e+08  \n",
      "2           6.3          2015  1.012000e+08  2.716190e+08  \n",
      "3           7.5          2015  1.839999e+08  1.902723e+09  \n",
      "4           7.3          2015  1.747999e+08  1.385749e+09  \n",
      "\n",
      "[5 rows x 21 columns]\n",
      "\n",
      "Data Types after Cleaning:\n",
      "id                        int64\n",
      "imdb_id                  object\n",
      "popularity              float64\n",
      "budget                    int64\n",
      "revenue                   int64\n",
      "original_title           object\n",
      "cast                     object\n",
      "homepage                 object\n",
      "director                 object\n",
      "tagline                  object\n",
      "keywords                 object\n",
      "overview                 object\n",
      "runtime                   int64\n",
      "genres                   object\n",
      "production_companies     object\n",
      "release_date             object\n",
      "vote_count                int64\n",
      "vote_average            float64\n",
      "release_year              int64\n",
      "budget_adj              float64\n",
      "revenue_adj             float64\n",
      "dtype: object\n",
      "\n",
      "Missing Values Count after Cleaning:\n",
      " id                      0\n",
      "imdb_id                 0\n",
      "popularity              0\n",
      "budget                  0\n",
      "revenue                 0\n",
      "original_title          0\n",
      "cast                    0\n",
      "homepage                0\n",
      "director                0\n",
      "tagline                 0\n",
      "keywords                0\n",
      "overview                0\n",
      "runtime                 0\n",
      "genres                  0\n",
      "production_companies    0\n",
      "release_date            0\n",
      "vote_count              0\n",
      "vote_average            0\n",
      "release_year            0\n",
      "budget_adj              0\n",
      "revenue_adj             0\n",
      "dtype: int64\n",
      "\n",
      "Duplicate Rows after Cleaning:\n",
      " Empty DataFrame\n",
      "Columns: [id, imdb_id, popularity, budget, revenue, original_title, cast, homepage, director, tagline, keywords, overview, runtime, genres, production_companies, release_date, vote_count, vote_average, release_year, budget_adj, revenue_adj]\n",
      "Index: []\n",
      "\n",
      "[0 rows x 21 columns]\n"
     ]
    }
   ],
   "source": [
    "df.dropna(inplace=True)  \n",
    "\n",
    "df.drop_duplicates(inplace=True)  \n",
    "\n",
    "print(df.head())\n",
    "\n",
    "print(\"\\nData Types after Cleaning:\")\n",
    "print(df.dtypes)\n",
    "\n",
    "missing_values_count = df.isnull().sum()\n",
    "print(\"\\nMissing Values Count after Cleaning:\\n\", missing_values_count)\n",
    "\n",
    "duplicate_rows = df[df.duplicated()]\n",
    "print(\"\\nDuplicate Rows after Cleaning:\\n\", duplicate_rows)\n"
   ]
  },
  {
   "cell_type": "markdown",
   "metadata": {},
   "source": [
    "<a id='eda'></a>\n",
    "## Exploratory Data Analysis\n",
    "\n",
    "Now that we have cleaned the data, we are ready to perform exploratory data analysis (EDA) to address the research question: \"What is the relationship between movie budget, revenue, popularity, and vote average?\" We will explore this question from multiple angles, starting with single-variable explorations and then examining relationships between variables.\n",
    "\n",
    "\n",
    "### Research Question 1 (Budget vs Revenue)"
   ]
  },
  {
   "cell_type": "markdown",
   "metadata": {},
   "source": [
    "**Exploring Movie Budget**\n",
    "\n",
    "Let's start by exploring the distribution of movie budgets and gaining insights into the budget allocation for movies."
   ]
  },
  {
   "cell_type": "code",
   "execution_count": 7,
   "metadata": {},
   "outputs": [
    {
     "name": "stdout",
     "output_type": "stream",
     "text": [
      "Statistics for budget:\n",
      "Mean: 34549235.94076305\n",
      "Median: 15000000.0\n",
      "Standard Deviation: 50618777.09475492\n"
     ]
    }
   ],
   "source": [
    "budget_mean, budget_median, budget_std = calculate_statistics(df, 'budget')\n",
    "\n",
    "print(\"Statistics for budget:\")\n",
    "print(\"Mean:\", budget_mean)\n",
    "print(\"Median:\", budget_median)\n",
    "print(\"Standard Deviation:\", budget_std)"
   ]
  },
  {
   "cell_type": "markdown",
   "metadata": {},
   "source": [
    "Calculated statistics (mean, median, and standard deviation) for the movie budget."
   ]
  },
  {
   "cell_type": "code",
   "execution_count": 8,
   "metadata": {},
   "outputs": [
    {
     "data": {
      "image/png": "[encoded data removed]",
      "text/plain": [
       "<matplotlib.figure.Figure at 0x7f0b2aaa2cf8>"
      ]
     },
     "metadata": {
      "needs_background": "light"
     },
     "output_type": "display_data"
    }
   ],
   "source": [
    "plt.figure(figsize=(8, 5))\n",
    "plt.hist(df['budget'], bins=20, color='blue', edgecolor='black')\n",
    "plt.title(\"Histogram of budget\")\n",
    "plt.xlabel(\"budget Values\")\n",
    "plt.ylabel(\"Frequency\")\n",
    "plt.show()\n"
   ]
  },
  {
   "cell_type": "markdown",
   "metadata": {},
   "source": [
    "Visualized the distribution of movie budgets using a histogram."
   ]
  },
  {
   "cell_type": "markdown",
   "metadata": {},
   "source": [
    "**Exploring Movie Revenue**\n",
    "\n",
    "Now, let's explore the distribution of movie revenues to understand the revenue earned by movies."
   ]
  },
  {
   "cell_type": "code",
   "execution_count": 9,
   "metadata": {},
   "outputs": [
    {
     "name": "stdout",
     "output_type": "stream",
     "text": [
      "Statistics for revenue:\n",
      "Mean: 115215273.41516064\n",
      "Median: 25787815.5\n",
      "Standard Deviation: 220288685.1703134\n"
     ]
    }
   ],
   "source": [
    "revenue_mean, revenue_median, revenue_std = calculate_statistics(df, 'revenue')\n",
    "\n",
    "print(\"Statistics for revenue:\")\n",
    "print(\"Mean:\", revenue_mean)\n",
    "print(\"Median:\", revenue_median)\n",
    "print(\"Standard Deviation:\", revenue_std)"
   ]
  },
  {
   "cell_type": "markdown",
   "metadata": {},
   "source": [
    "Calculated statistics (mean, median, and standard deviation) for the movie revenue."
   ]
  },
  {
   "cell_type": "code",
   "execution_count": 10,
   "metadata": {},
   "outputs": [
    {
     "data": {
      "image/png": "[encoded data removed]",
      "text/plain": [
       "<matplotlib.figure.Figure at 0x7f0b2aaa2d68>"
      ]
     },
     "metadata": {
      "needs_background": "light"
     },
     "output_type": "display_data"
    }
   ],
   "source": [
    "plt.figure(figsize=(8, 5))\n",
    "plt.boxplot(df['revenue'], vert=False)\n",
    "plt.title(\"Box Plot of revenue\")\n",
    "plt.xlabel(\"Revenue Values\")\n",
    "plt.show()"
   ]
  },
  {
   "cell_type": "markdown",
   "metadata": {},
   "source": [
    "Plotted a boxplot to understand the distribution of movie revenues and identify any outliers."
   ]
  },
  {
   "cell_type": "markdown",
   "metadata": {},
   "source": [
    "**Relationship between Budget and Revenue**\n",
    "\n",
    "Let's explore the relationship between movie budget and revenue using a scatter plot."
   ]
  },
  {
   "cell_type": "code",
   "execution_count": 11,
   "metadata": {
    "scrolled": true
   },
   "outputs": [
    {
     "data": {
      "image/png": "[encoded data removed]",
      "text/plain": [
       "<matplotlib.figure.Figure at 0x7f0b2bef2fd0>"
      ]
     },
     "metadata": {
      "needs_background": "light"
     },
     "output_type": "display_data"
    }
   ],
   "source": [
    "myScatterPlot(df,'budget','revenue')"
   ]
  },
  {
   "cell_type": "markdown",
   "metadata": {},
   "source": [
    "Examined the scatter plot to visualize the relationship between budget and revenue.\n",
    "\n",
    "Calculated the correlation coefficient between budget and revenue to quantify the strength of the linear relationship.\n",
    "\n",
    "The histogram shows that the majority of movies have budgets on the lower end, with only a few big-budget movies. The boxplot for revenue indicates the presence of outliers, indicating some movies generated significantly higher revenue than others. The scatter plot and positive correlation coefficient suggest that, in general, higher-budget movies tend to have higher revenues."
   ]
  },
  {
   "cell_type": "markdown",
   "metadata": {},
   "source": [
    "**Correlation Coefficient between Budget and Revenue**"
   ]
  },
  {
   "cell_type": "code",
   "execution_count": 12,
   "metadata": {},
   "outputs": [
    {
     "name": "stdout",
     "output_type": "stream",
     "text": [
      "Correlation Coefficient between Budget and Revenue: 0.7472725961709481\n"
     ]
    }
   ],
   "source": [
    "correlation_coefficient = df['budget'].corr(df['revenue'])\n",
    "print(\"Correlation Coefficient between Budget and Revenue:\", correlation_coefficient)"
   ]
  },
  {
   "cell_type": "markdown",
   "metadata": {},
   "source": [
    "Althought the correlation ccofficient is on the scatter plot, I choose to show what is the integer number"
   ]
  },
  {
   "cell_type": "markdown",
   "metadata": {},
   "source": [
    "### Research Question 2  (Popularity vs Vote Average)"
   ]
  },
  {
   "cell_type": "markdown",
   "metadata": {
    "collapsed": true
   },
   "source": [
    "**Exploring Movie Popularity**\n",
    "\n",
    "Now, let's explore the distribution of movie popularity to understand the level of popularity among viewers."
   ]
  },
  {
   "cell_type": "code",
   "execution_count": 13,
   "metadata": {},
   "outputs": [
    {
     "name": "stdout",
     "output_type": "stream",
     "text": [
      "Statistics for popularity:\n",
      "Mean: 1.3167630110441766\n",
      "Median: 0.7742225\n",
      "Standard Deviation: 1.873562663358841\n"
     ]
    }
   ],
   "source": [
    "popularity_mean, popularity_median, popularity_std = calculate_statistics(df, 'popularity')\n",
    "\n",
    "print(\"Statistics for popularity:\")\n",
    "print(\"Mean:\", popularity_mean)\n",
    "print(\"Median:\", popularity_median)\n",
    "print(\"Standard Deviation:\", popularity_std)"
   ]
  },
  {
   "cell_type": "markdown",
   "metadata": {},
   "source": [
    "Calculated statistics (mean, median, and standard deviation) for movie popularity."
   ]
  },
  {
   "cell_type": "code",
   "execution_count": 14,
   "metadata": {},
   "outputs": [
    {
     "data": {
      "image/png": "[encoded data removed]",
      "text/plain": [
       "<matplotlib.figure.Figure at 0x7f0b2aaec828>"
      ]
     },
     "metadata": {
      "needs_background": "light"
     },
     "output_type": "display_data"
    }
   ],
   "source": [
    "plt.figure(figsize=(8, 5))\n",
    "plt.hist(df['popularity'], bins=20, color='blue', edgecolor='black')\n",
    "plt.title(\"Histogram of popularity\")\n",
    "plt.xlabel(\"Popularity Values\")\n",
    "plt.ylabel(\"Frequency\")\n",
    "plt.show()"
   ]
  },
  {
   "cell_type": "markdown",
   "metadata": {},
   "source": [
    "Visualized the distribution of movie popularity using a histogram."
   ]
  },
  {
   "cell_type": "markdown",
   "metadata": {},
   "source": [
    "**Exploring Vote Average**\n",
    "\n",
    "Finally, let's explore the distribution of movie vote averages, which represent the average ratings given by viewers."
   ]
  },
  {
   "cell_type": "code",
   "execution_count": 15,
   "metadata": {},
   "outputs": [
    {
     "name": "stdout",
     "output_type": "stream",
     "text": [
      "Statistics for vote_average:\n",
      "Mean: 6.178614457831325\n",
      "Median: 6.2\n",
      "Standard Deviation: 0.8819550949479105\n"
     ]
    }
   ],
   "source": [
    "vote_average_mean, vote_average_median, vote_average_std = calculate_statistics(df, 'vote_average')\n",
    "\n",
    "print(\"Statistics for vote_average:\")\n",
    "print(\"Mean:\", vote_average_mean)\n",
    "print(\"Median:\", vote_average_median)\n",
    "print(\"Standard Deviation:\", vote_average_std)"
   ]
  },
  {
   "cell_type": "markdown",
   "metadata": {},
   "source": [
    "Calculated statistics (mean, median, and standard deviation) for Vote Average."
   ]
  },
  {
   "cell_type": "code",
   "execution_count": 16,
   "metadata": {
    "scrolled": true
   },
   "outputs": [
    {
     "data": {
      "image/png": "[encoded data removed]",
      "text/plain": [
       "<matplotlib.figure.Figure at 0x7f0b2aadfdd8>"
      ]
     },
     "metadata": {
      "needs_background": "light"
     },
     "output_type": "display_data"
    }
   ],
   "source": [
    "plt.figure(figsize=(8, 5))\n",
    "plt.boxplot(df['vote_average'], vert=False)\n",
    "plt.title(\"Box Plot of vote average\")\n",
    "plt.xlabel(\"Vote average Values\")\n",
    "plt.show()"
   ]
  },
  {
   "cell_type": "markdown",
   "metadata": {},
   "source": [
    "Plotted a boxplot to understand the distribution of movie vote averages."
   ]
  },
  {
   "cell_type": "markdown",
   "metadata": {},
   "source": [
    "**Relationship between Popularity and Vote Average**\n",
    "\n",
    "Next, let's explore the relationship between movie popularity and vote average using a scatter plot."
   ]
  },
  {
   "cell_type": "code",
   "execution_count": 17,
   "metadata": {
    "scrolled": true
   },
   "outputs": [
    {
     "data": {
      "image/png": "[encoded data removed]",
      "text/plain": [
       "<matplotlib.figure.Figure at 0x7f0b2c299550>"
      ]
     },
     "metadata": {
      "needs_background": "light"
     },
     "output_type": "display_data"
    }
   ],
   "source": [
    "myScatterPlot(df,'popularity','vote_average',color = 'green')"
   ]
  },
  {
   "cell_type": "markdown",
   "metadata": {},
   "source": [
    "Examined the scatter plot to visualize the relationship between popularity and vote average.\n",
    "\n",
    "Calculated the correlation coefficient between popularity and vote average.\n",
    "\n",
    "The histogram for popularity indicates a right-skewed distribution, with most movies having lower popularity scores. The boxplot for vote average suggests that movie ratings are generally spread out, with a few outliers on the higher end. The scatter plot and positive correlation coefficient indicate that movies with higher popularity tend to receive higher average ratings from viewers."
   ]
  },
  {
   "cell_type": "markdown",
   "metadata": {},
   "source": [
    "**Correlation Coefficient between Popularity and Vote Average**"
   ]
  },
  {
   "cell_type": "code",
   "execution_count": 18,
   "metadata": {},
   "outputs": [
    {
     "name": "stdout",
     "output_type": "stream",
     "text": [
      "Correlation Coefficient between Popularity and Vote Average: 0.2980656865271562\n"
     ]
    }
   ],
   "source": [
    "correlation_coefficient = df['popularity'].corr(df['vote_average'])\n",
    "print(\"Correlation Coefficient between Popularity and Vote Average:\", correlation_coefficient)"
   ]
  },
  {
   "cell_type": "markdown",
   "metadata": {},
   "source": [
    "Althought the correlation ccofficient is on the scatter plot, I choose to show what is the integer number"
   ]
  },
  {
   "cell_type": "markdown",
   "metadata": {},
   "source": [
    "<a id='conclusions'></a>\n",
    "## Conclusions\n",
    "\n",
    "In this investigation of the TMDb movie dataset, we addressed two research questions and performed exploratory data analysis to gain insights into the data. Here are the key findings and conclusions for each research question:\n",
    "\n",
    "**Research Question 1: How much was the budget and what was the revenue?**\n",
    "\n",
    "Variable 1: Budget\n",
    "\n",
    "Variable 2: Revenue\n",
    "\n",
    "Relationship between Variable 1 and Variable 2: based on the scatter plot and correlation coefficient, we can make the following conclusions.\n",
    "\n",
    "There is a positive correlation between the budget and the revenue, the most movies with no budget don't make a good revenue or a revenue that generates profit, but there is some outliers in the plot that make a higher revenue that was expected.\n",
    "\n",
    "Limitation: The analysis focused on the linear relationship between budget and revenue. Other factors, such as marketing strategies, release timing, cast popularity, and audience preferences, can also influence movie revenue. Additional Research:\n",
    "\n",
    "Further research can involve a more in-depth analysis of non-linear relationships and the impact of other factors on movie revenue. Conducting statistical tests or regression analysis to understand the significance and predictive power of the budget on revenue. The relationship between budget and revenue is an essential aspect of the film industry, and understanding it can aid decision-making for movie production and budget allocation.\n",
    "\n",
    "**Research Question 2: What is the relation between the popularity and the vote average**\n",
    "\n",
    "Variable 3: Popularity\n",
    "\n",
    "Variable 4: Vote Average\n",
    "\n",
    "Relationship between Variable 3 and Variable 4: based on the scatter plot and correlation coefficient, we can make the following conclusions.\n",
    "\n",
    "The positive correlation between popularity and vote average suggests that movies with higher popularity tend to receive higher average ratings from viewers. This could be because more popular movies reach a larger audience, including those who are more likely to rate the movie positively.\n",
    "\n",
    "Limitation:\n",
    "\n",
    "The analysis focused on the linear relationship between popularity and vote average. Other factors, such as marketing, genre, and the target audience, can also influence the vote average of a movie.\n",
    "\n",
    "Additional Research:\n",
    "\n",
    "Further research can involve analyzing the relationship between popularity, vote average, and specific movie genres or target demographics. Investigating the impact of marketing strategies and promotions on the popularity and vote average of movies. Understanding the relationship between popularity and vote average can provide valuable insights into how viewers' preferences align with the overall popularity of movies. It can help movie studios and producers gauge audience feedback and make informed decisions about movie promotions and viewer engagement.\n",
    "\n",
    "## Submitting your Project "
   ]
  },
  {
   "cell_type": "code",
   "execution_count": 19,
   "metadata": {},
   "outputs": [
    {
     "data": {
      "text/plain": [
       "0"
      ]
     },
     "execution_count": 19,
     "metadata": {},
     "output_type": "execute_result"
    }
   ],
   "source": [
    "from subprocess import call\n",
    "call(['python', '-m', 'nbconvert', 'Investigate_a_Dataset.ipynb'])"
   ]
  }
 ],
 "metadata": {
  "kernelspec": {
   "display_name": "Python 3",
   "language": "python",
   "name": "python3"
  },
  "language_info": {
   "codemirror_mode": {
    "name": "ipython",
    "version": 3
   },
   "file_extension": ".py",
   "mimetype": "text/x-python",
   "name": "python",
   "nbconvert_exporter": "python",
   "pygments_lexer": "ipython3",
   "version": "3.6.3"
  }
 },
 "nbformat": 4,
 "nbformat_minor": 2
}
